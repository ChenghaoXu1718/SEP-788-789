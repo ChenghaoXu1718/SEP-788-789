{
  "nbformat": 4,
  "nbformat_minor": 0,
  "metadata": {
    "colab": {
      "name": "Report1.ipynb",
      "provenance": [],
      "authorship_tag": "ABX9TyP7x/pA+ycmiIQgqN4aVDNV",
      "include_colab_link": true
    },
    "kernelspec": {
      "name": "python3",
      "display_name": "Python 3"
    },
    "language_info": {
      "name": "python"
    }
  },
  "cells": [
    {
      "cell_type": "markdown",
      "metadata": {
        "id": "view-in-github",
        "colab_type": "text"
      },
      "source": [
        "<a href=\"https://colab.research.google.com/github/ChenghaoXu1718/SEP-788-789/blob/main/GroupProject/%20Report1.ipynb\" target=\"_parent\"><img src=\"https://colab.research.google.com/assets/colab-badge.svg\" alt=\"Open In Colab\"/></a>"
      ]
    },
    {
      "cell_type": "markdown",
      "source": [
        "#Clone data from Github"
      ],
      "metadata": {
        "id": "da6ZGQQgD16w"
      }
    },
    {
      "cell_type": "code",
      "execution_count": 1,
      "metadata": {
        "colab": {
          "base_uri": "https://localhost:8080/"
        },
        "id": "tKGXKTAh-QKy",
        "outputId": "7748514a-3559-498d-9e25-30a89a0cff09"
      },
      "outputs": [
        {
          "output_type": "stream",
          "name": "stdout",
          "text": [
            "Cloning into 'SEP-788-789'...\n",
            "remote: Enumerating objects: 4686, done.\u001b[K\n",
            "remote: Counting objects: 100% (4686/4686), done.\u001b[K\n",
            "remote: Compressing objects: 100% (4672/4672), done.\u001b[K\n",
            "remote: Total 4686 (delta 5), reused 4662 (delta 4), pack-reused 0\u001b[K\n",
            "Receiving objects: 100% (4686/4686), 304.31 MiB | 19.16 MiB/s, done.\n",
            "Resolving deltas: 100% (5/5), done.\n",
            "Checking out files: 100% (4676/4676), done.\n"
          ]
        }
      ],
      "source": [
        "!git clone https://github.com/ChenghaoXu1718/SEP-788-789"
      ]
    }
  ]
}